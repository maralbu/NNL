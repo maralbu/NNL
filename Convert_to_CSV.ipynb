{
  "nbformat": 4,
  "nbformat_minor": 0,
  "metadata": {
    "colab": {
      "provenance": []
    },
    "kernelspec": {
      "name": "python3",
      "display_name": "Python 3"
    },
    "language_info": {
      "name": "python"
    }
  },
  "cells": [
    {
      "cell_type": "code",
      "execution_count": 2,
      "metadata": {
        "colab": {
          "base_uri": "https://localhost:8080/"
        },
        "id": "48Q9Ymr9PgKh",
        "outputId": "1378b0a6-cbab-4c61-f8a6-a2188a231a96"
      },
      "outputs": [
        {
          "output_type": "stream",
          "name": "stdout",
          "text": [
            "Requirement already satisfied: xarray in /usr/local/lib/python3.10/dist-packages (2024.6.0)\n",
            "Requirement already satisfied: numpy>=1.23 in /usr/local/lib/python3.10/dist-packages (from xarray) (1.25.2)\n",
            "Requirement already satisfied: packaging>=23.1 in /usr/local/lib/python3.10/dist-packages (from xarray) (24.1)\n",
            "Requirement already satisfied: pandas>=2.0 in /usr/local/lib/python3.10/dist-packages (from xarray) (2.0.3)\n",
            "Requirement already satisfied: python-dateutil>=2.8.2 in /usr/local/lib/python3.10/dist-packages (from pandas>=2.0->xarray) (2.8.2)\n",
            "Requirement already satisfied: pytz>=2020.1 in /usr/local/lib/python3.10/dist-packages (from pandas>=2.0->xarray) (2024.1)\n",
            "Requirement already satisfied: tzdata>=2022.1 in /usr/local/lib/python3.10/dist-packages (from pandas>=2.0->xarray) (2024.1)\n",
            "Requirement already satisfied: six>=1.5 in /usr/local/lib/python3.10/dist-packages (from python-dateutil>=2.8.2->pandas>=2.0->xarray) (1.16.0)\n"
          ]
        }
      ],
      "source": [
        "!pip install  xarray"
      ]
    },
    {
      "cell_type": "code",
      "source": [
        "!pip install forge pynio"
      ],
      "metadata": {
        "colab": {
          "base_uri": "https://localhost:8080/"
        },
        "id": "Exx6EbwpP8a9",
        "outputId": "bb74ebc1-327e-4ab6-8c63-1072a530642d"
      },
      "execution_count": 5,
      "outputs": [
        {
          "output_type": "stream",
          "name": "stdout",
          "text": [
            "Collecting forge\n",
            "  Using cached forge-0.22.0-py3-none-any.whl.metadata (3.0 kB)\n",
            "\u001b[31mERROR: Could not find a version that satisfies the requirement pynio (from versions: none)\u001b[0m\u001b[31m\n",
            "\u001b[0m\u001b[31mERROR: No matching distribution found for pynio\u001b[0m\u001b[31m\n",
            "\u001b[0m"
          ]
        }
      ]
    },
    {
      "cell_type": "code",
      "source": [
        "!pip install cfgrib\n",
        "!pip install pandas"
      ],
      "metadata": {
        "colab": {
          "base_uri": "https://localhost:8080/"
        },
        "id": "bc6d7T3qQ49Q",
        "outputId": "9cc8260c-482b-4cfc-8d8c-1b7328009019"
      },
      "execution_count": 9,
      "outputs": [
        {
          "output_type": "stream",
          "name": "stdout",
          "text": [
            "Requirement already satisfied: cfgrib in /usr/local/lib/python3.10/dist-packages (0.9.14.0)\n",
            "Requirement already satisfied: attrs>=19.2 in /usr/local/lib/python3.10/dist-packages (from cfgrib) (23.2.0)\n",
            "Requirement already satisfied: click in /usr/local/lib/python3.10/dist-packages (from cfgrib) (8.1.7)\n",
            "Requirement already satisfied: eccodes>=0.9.8 in /usr/local/lib/python3.10/dist-packages (from cfgrib) (1.7.1)\n",
            "Requirement already satisfied: numpy in /usr/local/lib/python3.10/dist-packages (from cfgrib) (1.25.2)\n",
            "Requirement already satisfied: cffi in /usr/local/lib/python3.10/dist-packages (from eccodes>=0.9.8->cfgrib) (1.16.0)\n",
            "Requirement already satisfied: findlibs in /usr/local/lib/python3.10/dist-packages (from eccodes>=0.9.8->cfgrib) (0.0.5)\n",
            "Requirement already satisfied: pycparser in /usr/local/lib/python3.10/dist-packages (from cffi->eccodes>=0.9.8->cfgrib) (2.22)\n",
            "Requirement already satisfied: pandas in /usr/local/lib/python3.10/dist-packages (2.0.3)\n",
            "Requirement already satisfied: python-dateutil>=2.8.2 in /usr/local/lib/python3.10/dist-packages (from pandas) (2.8.2)\n",
            "Requirement already satisfied: pytz>=2020.1 in /usr/local/lib/python3.10/dist-packages (from pandas) (2024.1)\n",
            "Requirement already satisfied: tzdata>=2022.1 in /usr/local/lib/python3.10/dist-packages (from pandas) (2024.1)\n",
            "Requirement already satisfied: numpy>=1.21.0 in /usr/local/lib/python3.10/dist-packages (from pandas) (1.25.2)\n",
            "Requirement already satisfied: six>=1.5 in /usr/local/lib/python3.10/dist-packages (from python-dateutil>=2.8.2->pandas) (1.16.0)\n"
          ]
        }
      ]
    },
    {
      "cell_type": "code",
      "source": [
        "!apt-get install libeccodes-dev"
      ],
      "metadata": {
        "colab": {
          "base_uri": "https://localhost:8080/"
        },
        "id": "cCd_tlzURvqo",
        "outputId": "60aaeb8d-dc40-401b-cd91-1a3d040bddfc"
      },
      "execution_count": 11,
      "outputs": [
        {
          "output_type": "stream",
          "name": "stdout",
          "text": [
            "Reading package lists... Done\n",
            "Building dependency tree... Done\n",
            "Reading state information... Done\n",
            "The following additional packages will be installed:\n",
            "  libeccodes-data libeccodes0\n",
            "The following NEW packages will be installed:\n",
            "  libeccodes-data libeccodes-dev libeccodes0\n",
            "0 upgraded, 3 newly installed, 0 to remove and 45 not upgraded.\n",
            "Need to get 3,076 kB of archives.\n",
            "After this operation, 60.8 MB of additional disk space will be used.\n",
            "Get:1 http://archive.ubuntu.com/ubuntu jammy/universe amd64 libeccodes-data all 2.24.2-1 [1,592 kB]\n",
            "Get:2 http://archive.ubuntu.com/ubuntu jammy/universe amd64 libeccodes0 amd64 2.24.2-1 [614 kB]\n",
            "Get:3 http://archive.ubuntu.com/ubuntu jammy/universe amd64 libeccodes-dev amd64 2.24.2-1 [870 kB]\n",
            "Fetched 3,076 kB in 0s (14.8 MB/s)\n",
            "Selecting previously unselected package libeccodes-data.\n",
            "(Reading database ... 123589 files and directories currently installed.)\n",
            "Preparing to unpack .../libeccodes-data_2.24.2-1_all.deb ...\n",
            "Unpacking libeccodes-data (2.24.2-1) ...\n",
            "Selecting previously unselected package libeccodes0:amd64.\n",
            "Preparing to unpack .../libeccodes0_2.24.2-1_amd64.deb ...\n",
            "Unpacking libeccodes0:amd64 (2.24.2-1) ...\n",
            "Selecting previously unselected package libeccodes-dev:amd64.\n",
            "Preparing to unpack .../libeccodes-dev_2.24.2-1_amd64.deb ...\n",
            "Unpacking libeccodes-dev:amd64 (2.24.2-1) ...\n",
            "Setting up libeccodes-data (2.24.2-1) ...\n",
            "Setting up libeccodes0:amd64 (2.24.2-1) ...\n",
            "Setting up libeccodes-dev:amd64 (2.24.2-1) ...\n",
            "Processing triggers for libc-bin (2.35-0ubuntu3.2) ...\n"
          ]
        }
      ]
    },
    {
      "cell_type": "code",
      "source": [
        "import xarray as xr\n",
        "import matplotlib.pyplot as plt\n",
        "import numpy as np\n",
        "ds = xr.tutorial.open_dataset('air_temperature')\n",
        "ds.air.isel(time=0).plot(cmap='coolwarm')\n",
        "plt.show()"
      ],
      "metadata": {
        "id": "ciVVLLMkRgts"
      },
      "execution_count": null,
      "outputs": []
    }
  ]
}
